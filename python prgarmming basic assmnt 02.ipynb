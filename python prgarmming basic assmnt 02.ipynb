{
 "cells": [
  {
   "cell_type": "markdown",
   "id": "bf9f1861",
   "metadata": {},
   "source": [
    "1.\tWrite a Python program to convert kilometers to miles?"
   ]
  },
  {
   "cell_type": "code",
   "execution_count": null,
   "id": "42741f55",
   "metadata": {},
   "outputs": [],
   "source": []
  },
  {
   "cell_type": "code",
   "execution_count": null,
   "id": "f0569b96",
   "metadata": {},
   "outputs": [],
   "source": []
  },
  {
   "cell_type": "code",
   "execution_count": 35,
   "id": "c8310074",
   "metadata": {},
   "outputs": [],
   "source": [
    "#this is fuction to convert likometers to miles\n",
    "def convertor(lenth, b= 1.609):\n",
    "    miles = lenth/b\n",
    "    return lenth, \"kilometers is equal to\", miles, \"miles\""
   ]
  },
  {
   "cell_type": "code",
   "execution_count": 36,
   "id": "586e7187",
   "metadata": {},
   "outputs": [
    {
     "data": {
      "text/plain": [
       "(35.6, 'kilometers is equal to', 22.125543816034806, 'miles')"
      ]
     },
     "execution_count": 36,
     "metadata": {},
     "output_type": "execute_result"
    }
   ],
   "source": [
    "convertor(35.6)"
   ]
  },
  {
   "cell_type": "code",
   "execution_count": null,
   "id": "ef562648",
   "metadata": {},
   "outputs": [],
   "source": []
  },
  {
   "cell_type": "code",
   "execution_count": null,
   "id": "63c13247",
   "metadata": {},
   "outputs": [],
   "source": []
  },
  {
   "cell_type": "markdown",
   "id": "32a55c54",
   "metadata": {},
   "source": [
    "2.\tWrite a Python program to convert Celsius to Fahrenheit?"
   ]
  },
  {
   "cell_type": "code",
   "execution_count": 49,
   "id": "12889985",
   "metadata": {},
   "outputs": [],
   "source": [
    "def cel_to_far(celsius) :\n",
    "    return celsius*9/5+32"
   ]
  },
  {
   "cell_type": "code",
   "execution_count": 53,
   "id": "c6988b32",
   "metadata": {},
   "outputs": [
    {
     "data": {
      "text/plain": [
       "49.1"
      ]
     },
     "execution_count": 53,
     "metadata": {},
     "output_type": "execute_result"
    }
   ],
   "source": [
    "#example \n",
    "cel_to_far(9.5)"
   ]
  },
  {
   "cell_type": "code",
   "execution_count": null,
   "id": "aa10ee4b",
   "metadata": {},
   "outputs": [],
   "source": [
    "\n"
   ]
  },
  {
   "cell_type": "markdown",
   "id": "5ac83bf0",
   "metadata": {},
   "source": [
    "3.\tWrite a Python program to display calendar?"
   ]
  },
  {
   "cell_type": "code",
   "execution_count": null,
   "id": "e55a4c67",
   "metadata": {},
   "outputs": [],
   "source": []
  },
  {
   "cell_type": "code",
   "execution_count": 108,
   "id": "703c6325",
   "metadata": {},
   "outputs": [
    {
     "name": "stdout",
     "output_type": "stream",
     "text": [
      "enter year2022\n",
      "enter month5\n",
      "      May 2022\n",
      "Mo Tu We Th Fr Sa Su\n",
      "                   1\n",
      " 2  3  4  5  6  7  8\n",
      " 9 10 11 12 13 14 15\n",
      "16 17 18 19 20 21 22\n",
      "23 24 25 26 27 28 29\n",
      "30 31\n",
      "\n"
     ]
    }
   ],
   "source": [
    "# Program to show calendar\n",
    "import calendar\n",
    "\n",
    "year = int(input('enter year'))\n",
    "month = int(input('enter month'))\n",
    "\n",
    "print(calendar.month(year, month))\n"
   ]
  },
  {
   "cell_type": "code",
   "execution_count": null,
   "id": "ee3e2d73",
   "metadata": {},
   "outputs": [],
   "source": []
  },
  {
   "cell_type": "code",
   "execution_count": null,
   "id": "36cb8742",
   "metadata": {},
   "outputs": [],
   "source": []
  },
  {
   "cell_type": "markdown",
   "id": "c96fb2b2",
   "metadata": {},
   "source": [
    "4.\tWrite a Python program to solve quadratic equation?"
   ]
  },
  {
   "cell_type": "code",
   "execution_count": 3,
   "id": "003e3f22",
   "metadata": {},
   "outputs": [
    {
     "name": "stdout",
     "output_type": "stream",
     "text": [
      "ax**2+bx+c=0\n",
      "enter a(a!=0):4\n",
      "enter b15\n",
      "enter c44\n",
      "two complex roots\n",
      "the solutions are(-15-2.7357585785299112j) and (-15+2.7357585785299112j)\n"
     ]
    }
   ],
   "source": [
    "import cmath\n",
    "print(\"ax**2+bx+c=0\")\n",
    "a= int(input('enter a(a!=0):'))\n",
    "b= int(input('enter b'))\n",
    "c= int(input('enter c'))\n",
    "\n",
    "\n",
    "d = (b**2)-(4*a*c)\n",
    "\n",
    "solution1 =(-b-cmath.sqrt(d)/(2*a))\n",
    "solution2 =(-b+cmath.sqrt(d)/(2*a))\n",
    "\n",
    "if d>0 :\n",
    "    print(\"two distinct real roots\")\n",
    "elif d==0 :\n",
    "    print(\"two equal roots\")\n",
    "elif d<0 :\n",
    "    print(\"two complex roots\")\n",
    "    \n",
    "print(f\"the solutions are{solution1} and {solution2}\")"
   ]
  },
  {
   "cell_type": "code",
   "execution_count": null,
   "id": "f4163fe6",
   "metadata": {},
   "outputs": [],
   "source": []
  },
  {
   "cell_type": "code",
   "execution_count": null,
   "id": "ddfab8ea",
   "metadata": {},
   "outputs": [],
   "source": []
  },
  {
   "cell_type": "markdown",
   "id": "7da48900",
   "metadata": {},
   "source": [
    "5.\tWrite a Python program to swap two variables without temp variable?"
   ]
  },
  {
   "cell_type": "code",
   "execution_count": 4,
   "id": "3da6d616",
   "metadata": {},
   "outputs": [],
   "source": [
    "def swap_values(x,y) :\n",
    "    x, y = y , x\n",
    "    return 'value of x' , x, 'value of y' , y"
   ]
  },
  {
   "cell_type": "code",
   "execution_count": 5,
   "id": "0efa2d59",
   "metadata": {},
   "outputs": [
    {
     "data": {
      "text/plain": [
       "('value of x', 2, 'value of y', 1)"
      ]
     },
     "execution_count": 5,
     "metadata": {},
     "output_type": "execute_result"
    }
   ],
   "source": [
    "#example\n",
    "swap_values(1,2)"
   ]
  },
  {
   "cell_type": "code",
   "execution_count": null,
   "id": "3b4ae5a6",
   "metadata": {},
   "outputs": [],
   "source": []
  }
 ],
 "metadata": {
  "kernelspec": {
   "display_name": "Python 3 (ipykernel)",
   "language": "python",
   "name": "python3"
  },
  "language_info": {
   "codemirror_mode": {
    "name": "ipython",
    "version": 3
   },
   "file_extension": ".py",
   "mimetype": "text/x-python",
   "name": "python",
   "nbconvert_exporter": "python",
   "pygments_lexer": "ipython3",
   "version": "3.9.7"
  }
 },
 "nbformat": 4,
 "nbformat_minor": 5
}
