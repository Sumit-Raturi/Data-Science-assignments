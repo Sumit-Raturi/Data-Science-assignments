{
 "cells": [
  {
   "cell_type": "markdown",
   "id": "58538dee",
   "metadata": {},
   "source": [
    "1.\tWrite a Python program to print \"Hello Python\"?\n"
   ]
  },
  {
   "cell_type": "code",
   "execution_count": 11,
   "id": "514ca69f",
   "metadata": {},
   "outputs": [
    {
     "name": "stdout",
     "output_type": "stream",
     "text": [
      "Hello Python\n"
     ]
    }
   ],
   "source": [
    "a=1\n",
    "b=5\n",
    "if a>b :\n",
    "    print('This qustion is too hard to answer')\n",
    "else :\n",
    "    print('Hello Python')"
   ]
  },
  {
   "cell_type": "markdown",
   "id": "4450e760",
   "metadata": {},
   "source": [
    "2.\tWrite a Python program to do arithmetical operations addition and division.?"
   ]
  },
  {
   "cell_type": "code",
   "execution_count": 12,
   "id": "1a9024ef",
   "metadata": {},
   "outputs": [],
   "source": [
    "# This is a function to do additon of two numbers\n",
    "def add(a,b) :\n",
    "    return a+b\n",
    "# This is a functiuon to do divison of two nubers\n",
    "def div(a,b) :\n",
    "    return a/b"
   ]
  },
  {
   "cell_type": "code",
   "execution_count": 19,
   "id": "5cbeff1c",
   "metadata": {},
   "outputs": [
    {
     "data": {
      "text/plain": [
       "120"
      ]
     },
     "execution_count": 19,
     "metadata": {},
     "output_type": "execute_result"
    }
   ],
   "source": [
    "#example for addition\n",
    "add(45,75)"
   ]
  },
  {
   "cell_type": "code",
   "execution_count": 22,
   "id": "61b88021",
   "metadata": {},
   "outputs": [
    {
     "data": {
      "text/plain": [
       "4.0"
      ]
     },
     "execution_count": 22,
     "metadata": {},
     "output_type": "execute_result"
    }
   ],
   "source": [
    "#exapmle for divison\n",
    "div(20,5)"
   ]
  },
  {
   "cell_type": "markdown",
   "id": "2505ea17",
   "metadata": {},
   "source": [
    "3.\tWrite a Python program to find the area of a triangle?"
   ]
  },
  {
   "cell_type": "code",
   "execution_count": 23,
   "id": "0541dd8a",
   "metadata": {},
   "outputs": [],
   "source": [
    "def find_area(base, hight):\n",
    "    return base*hight/2"
   ]
  },
  {
   "cell_type": "code",
   "execution_count": 24,
   "id": "c331e84e",
   "metadata": {},
   "outputs": [
    {
     "data": {
      "text/plain": [
       "1125.0"
      ]
     },
     "execution_count": 24,
     "metadata": {},
     "output_type": "execute_result"
    }
   ],
   "source": [
    "#example\n",
    "find_area(50,45)"
   ]
  },
  {
   "cell_type": "markdown",
   "id": "2ce9f732",
   "metadata": {},
   "source": [
    "4.\tWrite a Python program to swap two variables?"
   ]
  },
  {
   "cell_type": "code",
   "execution_count": 29,
   "id": "173bb644",
   "metadata": {},
   "outputs": [],
   "source": [
    "def swap_values(x,y) :\n",
    "    x, y = y , x\n",
    "    return 'value of x' , x, 'value of y' , y"
   ]
  },
  {
   "cell_type": "code",
   "execution_count": 31,
   "id": "15153ee4",
   "metadata": {},
   "outputs": [
    {
     "data": {
      "text/plain": [
       "('value of x', 60, 'value of y', 50)"
      ]
     },
     "execution_count": 31,
     "metadata": {},
     "output_type": "execute_result"
    }
   ],
   "source": [
    "#example\n",
    "swap_values(50,60)"
   ]
  },
  {
   "cell_type": "markdown",
   "id": "4ea394b2",
   "metadata": {},
   "source": [
    "5.\tWrite a Python program to generate a random number?"
   ]
  },
  {
   "cell_type": "code",
   "execution_count": 35,
   "id": "c3dfe85e",
   "metadata": {},
   "outputs": [
    {
     "name": "stdout",
     "output_type": "stream",
     "text": [
      "301\n"
     ]
    }
   ],
   "source": [
    "# importing random number\n",
    "import random\n",
    "print(random.randint(0,999))"
   ]
  },
  {
   "cell_type": "code",
   "execution_count": null,
   "id": "370cda1c",
   "metadata": {},
   "outputs": [],
   "source": []
  }
 ],
 "metadata": {
  "kernelspec": {
   "display_name": "Python 3 (ipykernel)",
   "language": "python",
   "name": "python3"
  },
  "language_info": {
   "codemirror_mode": {
    "name": "ipython",
    "version": 3
   },
   "file_extension": ".py",
   "mimetype": "text/x-python",
   "name": "python",
   "nbconvert_exporter": "python",
   "pygments_lexer": "ipython3",
   "version": "3.9.7"
  }
 },
 "nbformat": 4,
 "nbformat_minor": 5
}
