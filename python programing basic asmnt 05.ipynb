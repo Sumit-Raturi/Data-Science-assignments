{
 "cells": [
  {
   "cell_type": "markdown",
   "id": "453328f6",
   "metadata": {},
   "source": [
    "1.\tWrite a Python Program to Find LCM?"
   ]
  },
  {
   "cell_type": "code",
   "execution_count": 1,
   "id": "5c7165d0",
   "metadata": {},
   "outputs": [
    {
     "name": "stdout",
     "output_type": "stream",
     "text": [
      "enter first number12\n",
      "enter second number24\n",
      "the LCM is 24\n"
     ]
    }
   ],
   "source": [
    "a= int(input('enter first number'))\n",
    "b = int(input('enter second number'))\n",
    "\n",
    "maxnum = max(a,b)\n",
    "\n",
    "while(True):\n",
    "    if maxnum%a==0 and maxnum%b==0:\n",
    "        break\n",
    "    maxnum = maxnum+1\n",
    "print('the LCM is', maxnum)"
   ]
  },
  {
   "cell_type": "code",
   "execution_count": null,
   "id": "c7f0047f",
   "metadata": {},
   "outputs": [],
   "source": []
  },
  {
   "cell_type": "markdown",
   "id": "ab0afedd",
   "metadata": {},
   "source": [
    "2.\tWrite a Python Program to Find HCF?"
   ]
  },
  {
   "cell_type": "code",
   "execution_count": 6,
   "id": "2feee5c6",
   "metadata": {},
   "outputs": [],
   "source": [
    "def compute_hcf(x, y):\n",
    "    if x > y:\n",
    "        smaller = y\n",
    "    else:\n",
    "        smaller = x\n",
    "    for i in range(1, smaller+1):\n",
    "        if((x % i == 0) and (y % i == 0)):\n",
    "            hcf = i \n",
    "    return hcf"
   ]
  },
  {
   "cell_type": "code",
   "execution_count": 7,
   "id": "b72fe87c",
   "metadata": {},
   "outputs": [
    {
     "data": {
      "text/plain": [
       "12"
      ]
     },
     "execution_count": 7,
     "metadata": {},
     "output_type": "execute_result"
    }
   ],
   "source": [
    "compute_hcf(12,36)"
   ]
  },
  {
   "cell_type": "code",
   "execution_count": 9,
   "id": "0cbddd6c",
   "metadata": {},
   "outputs": [
    {
     "data": {
      "text/plain": [
       "1"
      ]
     },
     "execution_count": 9,
     "metadata": {},
     "output_type": "execute_result"
    }
   ],
   "source": [
    "compute_hcf(44,45)"
   ]
  },
  {
   "cell_type": "code",
   "execution_count": null,
   "id": "4e6dcb02",
   "metadata": {},
   "outputs": [],
   "source": []
  },
  {
   "cell_type": "code",
   "execution_count": null,
   "id": "b1c1c551",
   "metadata": {},
   "outputs": [],
   "source": []
  },
  {
   "cell_type": "markdown",
   "id": "0658d071",
   "metadata": {},
   "source": [
    "3.\tWrite a Python Program to Convert Decimal to Binary, Octal and Hexadecimal?"
   ]
  },
  {
   "cell_type": "code",
   "execution_count": 10,
   "id": "c988965d",
   "metadata": {},
   "outputs": [
    {
     "name": "stdout",
     "output_type": "stream",
     "text": [
      "The decimal value of 50 is:\n",
      "0b110010 in binary.\n",
      "0o62 in octal.\n",
      "0x32 in hexadecimal.\n"
     ]
    }
   ],
   "source": [
    "dec = 50\n",
    "\n",
    "print(\"The decimal value of\", dec, \"is:\")\n",
    "print(bin(dec), \"in binary.\")\n",
    "print(oct(dec), \"in octal.\")\n",
    "print(hex(dec), \"in hexadecimal.\")\n"
   ]
  },
  {
   "cell_type": "code",
   "execution_count": null,
   "id": "2348ccc2",
   "metadata": {},
   "outputs": [],
   "source": []
  },
  {
   "cell_type": "code",
   "execution_count": null,
   "id": "39c10482",
   "metadata": {},
   "outputs": [],
   "source": []
  },
  {
   "cell_type": "markdown",
   "id": "2559aead",
   "metadata": {},
   "source": [
    "4.\tWrite a Python Program To Find ASCII value of a character?"
   ]
  },
  {
   "cell_type": "code",
   "execution_count": 30,
   "id": "a487f6e2",
   "metadata": {},
   "outputs": [
    {
     "name": "stdout",
     "output_type": "stream",
     "text": [
      "The ASCII value of s  is 115\n"
     ]
    }
   ],
   "source": [
    "a = 's'\n",
    "print(\"The ASCII value of\", a ,' is', ord(a))\n"
   ]
  },
  {
   "cell_type": "code",
   "execution_count": null,
   "id": "0aba8544",
   "metadata": {},
   "outputs": [],
   "source": []
  },
  {
   "cell_type": "code",
   "execution_count": null,
   "id": "23787dd0",
   "metadata": {},
   "outputs": [],
   "source": []
  },
  {
   "cell_type": "markdown",
   "id": "7ae38df4",
   "metadata": {},
   "source": [
    "5.\tWrite a Python Program to Make a Simple Calculator with 4 basic mathematical operations?"
   ]
  },
  {
   "cell_type": "code",
   "execution_count": 34,
   "id": "0ef6af25",
   "metadata": {},
   "outputs": [
    {
     "name": "stdout",
     "output_type": "stream",
     "text": [
      "enter any number353\n",
      "enter sign*\n",
      "enter any number464\n",
      "163792\n"
     ]
    }
   ],
   "source": [
    "a = int(input('enter any number'))\n",
    "sign= input('enter sign')\n",
    "b = int(input('enter any number'))\n",
    "\n",
    "if sign=='+':\n",
    "    print(a+b)\n",
    "elif sign =='-':\n",
    "    print(a-b)\n",
    "elif sign=='*':\n",
    "    print(a*b)\n",
    "elif sign=='/':\n",
    "    print(a/b)"
   ]
  },
  {
   "cell_type": "code",
   "execution_count": null,
   "id": "24c70113",
   "metadata": {},
   "outputs": [],
   "source": []
  }
 ],
 "metadata": {
  "kernelspec": {
   "display_name": "Python 3 (ipykernel)",
   "language": "python",
   "name": "python3"
  },
  "language_info": {
   "codemirror_mode": {
    "name": "ipython",
    "version": 3
   },
   "file_extension": ".py",
   "mimetype": "text/x-python",
   "name": "python",
   "nbconvert_exporter": "python",
   "pygments_lexer": "ipython3",
   "version": "3.9.7"
  }
 },
 "nbformat": 4,
 "nbformat_minor": 5
}
