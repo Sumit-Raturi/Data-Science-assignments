{
 "cells": [
  {
   "cell_type": "markdown",
   "id": "1891ace1",
   "metadata": {},
   "source": [
    "1.\tWrite a Python Program to Find the Factorial of a Number?"
   ]
  },
  {
   "cell_type": "code",
   "execution_count": 2,
   "id": "2b786352",
   "metadata": {},
   "outputs": [
    {
     "name": "stdout",
     "output_type": "stream",
     "text": [
      "enter any number10\n",
      "3628800\n"
     ]
    }
   ],
   "source": [
    "i = int(input('enter any number'))\n",
    "fac = 1\n",
    "\n",
    "while i>0 :\n",
    "    fac = fac*i\n",
    "    i = i-1\n",
    "print(fac)"
   ]
  },
  {
   "cell_type": "code",
   "execution_count": null,
   "id": "a50a1148",
   "metadata": {},
   "outputs": [],
   "source": []
  },
  {
   "cell_type": "code",
   "execution_count": null,
   "id": "789999e9",
   "metadata": {},
   "outputs": [],
   "source": []
  },
  {
   "cell_type": "markdown",
   "id": "99a4068b",
   "metadata": {},
   "source": [
    "2.\tWrite a Python Program to Display the multiplication Table?"
   ]
  },
  {
   "cell_type": "code",
   "execution_count": 20,
   "id": "70a7f8dc",
   "metadata": {},
   "outputs": [
    {
     "name": "stdout",
     "output_type": "stream",
     "text": [
      "enter any number5\n",
      "5 * 1 = 5\n",
      "5 * 2 = 10\n",
      "5 * 3 = 15\n",
      "5 * 4 = 20\n",
      "5 * 5 = 25\n",
      "5 * 6 = 30\n",
      "5 * 7 = 35\n",
      "5 * 8 = 40\n",
      "5 * 9 = 45\n",
      "5 * 10 = 50\n"
     ]
    }
   ],
   "source": [
    "i = int(input('enter any number'))\n",
    "for s in range(1,11):\n",
    "    print(i,'*', s, '=', i*s)"
   ]
  },
  {
   "cell_type": "code",
   "execution_count": 16,
   "id": "a8b0ec22",
   "metadata": {},
   "outputs": [],
   "source": [
    "#alternate solution\n",
    "def multi(a):\n",
    "          for i in range(1,11):\n",
    "            print(i*a)"
   ]
  },
  {
   "cell_type": "code",
   "execution_count": 21,
   "id": "155018b7",
   "metadata": {},
   "outputs": [
    {
     "name": "stdout",
     "output_type": "stream",
     "text": [
      "5\n",
      "10\n",
      "15\n",
      "20\n",
      "25\n",
      "30\n",
      "35\n",
      "40\n",
      "45\n",
      "50\n"
     ]
    }
   ],
   "source": [
    "multi(5)"
   ]
  },
  {
   "cell_type": "code",
   "execution_count": null,
   "id": "b90aa51f",
   "metadata": {},
   "outputs": [],
   "source": []
  },
  {
   "cell_type": "code",
   "execution_count": null,
   "id": "4bc47145",
   "metadata": {},
   "outputs": [],
   "source": []
  },
  {
   "cell_type": "markdown",
   "id": "3e8ee40c",
   "metadata": {},
   "source": [
    "3.\tWrite a Python Program to Print the Fibonacci sequence?"
   ]
  },
  {
   "cell_type": "code",
   "execution_count": 7,
   "id": "3a63b624",
   "metadata": {},
   "outputs": [
    {
     "name": "stdout",
     "output_type": "stream",
     "text": [
      "enter any number50\n",
      "0\n",
      "1\n",
      "1\n",
      "2\n",
      "3\n",
      "5\n",
      "8\n",
      "13\n",
      "21\n",
      "34\n",
      "55\n",
      "89\n"
     ]
    }
   ],
   "source": [
    "n = int(input('enter any number'))\n",
    "a = 0\n",
    "b = 1\n",
    "c = 0\n",
    "while a<=n:\n",
    "    print(c)\n",
    "    a=b\n",
    "    b=c\n",
    "    c=a+b"
   ]
  },
  {
   "cell_type": "code",
   "execution_count": null,
   "id": "53246884",
   "metadata": {},
   "outputs": [],
   "source": []
  },
  {
   "cell_type": "code",
   "execution_count": null,
   "id": "d0c879e6",
   "metadata": {},
   "outputs": [],
   "source": []
  },
  {
   "cell_type": "markdown",
   "id": "a8e58f24",
   "metadata": {},
   "source": [
    "4.\tWrite a Python Program to Check Armstrong Number?"
   ]
  },
  {
   "cell_type": "code",
   "execution_count": 17,
   "id": "40916092",
   "metadata": {},
   "outputs": [],
   "source": [
    "def chech_armstrong(n):\n",
    "    sum = 0\n",
    "    order = len(str(n))\n",
    "    copy_n = n\n",
    "    while n>0:\n",
    "        digit = n%10\n",
    "        sum+= digit ** order\n",
    "        n = n//10\n",
    "    \n",
    "    if(sum== copy_n):\n",
    "        print( copy_n, 'is an armstrong number')\n",
    "    else:\n",
    "        print( copy_n, 'is not an armstrong number')"
   ]
  },
  {
   "cell_type": "code",
   "execution_count": 19,
   "id": "41e1abfd",
   "metadata": {},
   "outputs": [
    {
     "name": "stdout",
     "output_type": "stream",
     "text": [
      "153 is an armstrong number\n"
     ]
    }
   ],
   "source": [
    "chech_armstrong(153)"
   ]
  },
  {
   "cell_type": "code",
   "execution_count": 20,
   "id": "0aff7960",
   "metadata": {},
   "outputs": [
    {
     "name": "stdout",
     "output_type": "stream",
     "text": [
      "6456 is not an armstrong number\n"
     ]
    }
   ],
   "source": [
    "chech_armstrong(6456)"
   ]
  },
  {
   "cell_type": "code",
   "execution_count": null,
   "id": "c8112fe4",
   "metadata": {},
   "outputs": [],
   "source": []
  },
  {
   "cell_type": "code",
   "execution_count": null,
   "id": "ac9b0ef2",
   "metadata": {},
   "outputs": [],
   "source": []
  },
  {
   "cell_type": "markdown",
   "id": "544ffc21",
   "metadata": {},
   "source": [
    "5.\tWrite a Python Program to Find Armstrong Number in an Interval?"
   ]
  },
  {
   "cell_type": "code",
   "execution_count": 21,
   "id": "f03e6942",
   "metadata": {},
   "outputs": [
    {
     "name": "stdout",
     "output_type": "stream",
     "text": [
      "enter lower range1\n",
      "enter upper range1000\n",
      "1\n",
      "64\n",
      "125\n",
      "153\n",
      "216\n",
      "370\n",
      "371\n",
      "407\n",
      "729\n"
     ]
    }
   ],
   "source": [
    "lower= int(input('enter lower range'))\n",
    "upper= int(input('enter upper range'))\n",
    "\n",
    "for num in range(lower,upper+1):\n",
    "    sum = 0\n",
    "    temp = num\n",
    "    while temp > 0:\n",
    "        digit = temp%10\n",
    "        sum+= digit **3\n",
    "        temp //= 10\n",
    "        if num == sum:\n",
    "            print(num)"
   ]
  },
  {
   "cell_type": "code",
   "execution_count": null,
   "id": "d974d4ac",
   "metadata": {},
   "outputs": [],
   "source": []
  },
  {
   "cell_type": "code",
   "execution_count": null,
   "id": "58245da1",
   "metadata": {},
   "outputs": [],
   "source": []
  },
  {
   "cell_type": "markdown",
   "id": "a8357bd6",
   "metadata": {},
   "source": [
    "6.\tWrite a Python Program to Find the Sum of Natural Numbers?"
   ]
  },
  {
   "cell_type": "code",
   "execution_count": 25,
   "id": "10e8bb58",
   "metadata": {},
   "outputs": [],
   "source": [
    "def sum_of_num(n):\n",
    "    i=1\n",
    "    sum=0\n",
    "    while(i<=n):\n",
    "        sum =sum+i\n",
    "        i=i+1\n",
    "    print('sum=', sum)"
   ]
  },
  {
   "cell_type": "code",
   "execution_count": 26,
   "id": "05df68c2",
   "metadata": {},
   "outputs": [
    {
     "name": "stdout",
     "output_type": "stream",
     "text": [
      "sum= 55\n"
     ]
    }
   ],
   "source": [
    "sum_of_num(10)"
   ]
  },
  {
   "cell_type": "code",
   "execution_count": null,
   "id": "3a7aec64",
   "metadata": {},
   "outputs": [],
   "source": []
  },
  {
   "cell_type": "code",
   "execution_count": null,
   "id": "69bc013b",
   "metadata": {},
   "outputs": [],
   "source": []
  }
 ],
 "metadata": {
  "kernelspec": {
   "display_name": "Python 3 (ipykernel)",
   "language": "python",
   "name": "python3"
  },
  "language_info": {
   "codemirror_mode": {
    "name": "ipython",
    "version": 3
   },
   "file_extension": ".py",
   "mimetype": "text/x-python",
   "name": "python",
   "nbconvert_exporter": "python",
   "pygments_lexer": "ipython3",
   "version": "3.9.7"
  }
 },
 "nbformat": 4,
 "nbformat_minor": 5
}
